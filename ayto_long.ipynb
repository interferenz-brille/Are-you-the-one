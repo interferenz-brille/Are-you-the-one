{
 "cells": [
  {
   "cell_type": "markdown",
   "metadata": {},
   "source": [
    "# Module"
   ]
  },
  {
   "cell_type": "code",
   "execution_count": 1,
   "metadata": {},
   "outputs": [],
   "source": [
    "import numpy as np\n",
    "import matplotlib.pyplot as plt\n",
    "import random\n",
    "from math import factorial\n",
    "from itertools import product, permutations, combinations"
   ]
  },
  {
   "cell_type": "code",
   "execution_count": 2,
   "metadata": {},
   "outputs": [],
   "source": [
    "import time\n",
    "\n",
    "def TicTocGenerator():\n",
    "    # Generator that returns time differences\n",
    "    ti = 0           # initial time\n",
    "    tf = time.time() # final time\n",
    "    while True:\n",
    "        ti = tf\n",
    "        tf = time.time()\n",
    "        yield tf-ti # returns the time difference\n",
    "\n",
    "TicToc = TicTocGenerator() # create an instance of the TicTocGen generator\n",
    "\n",
    "# This will be the main function through which we define both tic() and toc()\n",
    "def toc(tempBool=True):\n",
    "    # Prints the time difference yielded by generator instance TicToc\n",
    "    tempTimeInterval = next(TicToc)\n",
    "    if tempBool:\n",
    "        print( \"Elapsed time: %f seconds.\\n\" %tempTimeInterval )\n",
    "\n",
    "def tic():\n",
    "    # Records a time in TicToc, marks the beginning of a time interval\n",
    "    toc(False)"
   ]
  },
  {
   "cell_type": "markdown",
   "metadata": {},
   "source": [
    "# Input"
   ]
  },
  {
   "cell_type": "code",
   "execution_count": 3,
   "metadata": {},
   "outputs": [],
   "source": [
    "number_of_nights = 7\n",
    "\n",
    "matchbox_names = [('Jessica', 'Mike'), ('Monami', 'Leon'), ('Raphaela', 'Andre'), ('Dana', 'William'),\n",
    "                  ('Monami', 'Antonino'), ('Jessica', 'Max'), ('Zaira', 'Marius')]\n",
    "\n",
    "match = [False, False, False, None, False, False, True]\n",
    "\n",
    "sold = [False, False, False, True, False, False, False]\n",
    "\n",
    "matching_night_strings = [\n",
    "    'Jessica und Leon,Joelina und Mike,Kerstin und Max,Monami und Antonino,Marie und Tim,Zaira und Dustin,Dana und William,Isabelle und Marius,Raphaela und Andre,Estelle und Jordi',\n",
    "    'Raphaela und William,Estelle und Leon,Zaira und Jordi,Joelina und Mike,Kerstin und Max,Isabelle und Dustin,Marie und Marius,Monami und Antonino,Dana und Andre,Jessica und Tim',\n",
    "    'Raphaela und Andre,Kerstin und Antonino,Monami und Max,Marie und Tim,Dana und William,Joelina und Mike,Zaira und Dustin,Isabelle und Marius,Estelle und Leon,Jessica und Jordi',\n",
    "    'Estelle und Leon,Dana und William,Monami und Antonino,Zaira und Dustin,Joelina und Mike,Marie und Max,Raphaela und Jordi,Kerstin und Tim,Isabelle und Andre,Jessica und Marius',\n",
    "    'Jessica und Leon,Estelle und Mike,Raphaela und Marius,Desiree und Tim,Joelina und Andre,Isabelle und Dustin,Monami und Max,Kerstin und Antonino,Zaira und Jordi,Dana und William',\n",
    "    'Estelle und Mike,Raphaela und William,Dana und Antonino,Zaira und Marius,Isabelle und Dustin,Jessica und Leon,Marie und Andre,Kerstin und Max,Joelina und Tim,Desiree und Jordi',\n",
    "    'Raphaela und William,Dana und Antonino,Isabelle und Dustin,Monami und Jordi,Desiree und Andre,Marie und Max,Kerstin und Tim,Joelina und Mike,Jessica und Leon,Zaira und Marius']\n",
    "\n",
    "lichter = [3,2,2,3,2,4,6]"
   ]
  },
  {
   "cell_type": "code",
   "execution_count": 4,
   "metadata": {},
   "outputs": [],
   "source": [
    "names_f = { 1: 'Dana', 2: 'Estelle', 3: 'Isabelle', 4: 'Jessica', 5: 'Joelina', 6: 'Kerstin', \n",
    "           7: 'Marie', 8: 'Monami', 9: 'Raphaela', 10: 'Zaira', 11: 'Desiree'}\n",
    "\n",
    "names_m = { 1: 'Andre', 2: 'Antonino', 3: 'Dustin', 4: 'Jordi', 5: 'Leon', 6: 'Marius', \n",
    "           7: 'Max', 8: 'Mike', 9: 'Tim', 10: 'William'}"
   ]
  },
  {
   "cell_type": "markdown",
   "metadata": {},
   "source": [
    "# Definitionen"
   ]
  },
  {
   "cell_type": "markdown",
   "metadata": {},
   "source": [
    "### Namen zu Nummern"
   ]
  },
  {
   "cell_type": "code",
   "execution_count": 5,
   "metadata": {},
   "outputs": [],
   "source": [
    "def name_to_number(name, dictionary):\n",
    "\n",
    "    return list(dictionary.keys())[list(dictionary.values()).index(name)]\n",
    "\n",
    "    # list(dictionary.keys()) = [1, 2, 3, 4, 5, 6, 7, 8, 9, 10]\n",
    "    # list(dictionary.values()) = ['name1','name2',...,'name10']\n",
    "    # [1,2,4,8].index(4) = 2"
   ]
  },
  {
   "cell_type": "markdown",
   "metadata": {},
   "source": [
    "### Zufällige Auswahl"
   ]
  },
  {
   "cell_type": "code",
   "execution_count": 6,
   "metadata": {},
   "outputs": [],
   "source": [
    "def random_choice(combinations_list):\n",
    "    \n",
    "    print('Es könnte die Kombination\\n')\n",
    "    \n",
    "    comb = random.choice(combinations_list)\n",
    "    for i in range(n): # Loop über alle 10 Paare\n",
    "        print(names_f[comb[i][0]] + ' und ' + names_m[comb[i][1]]) # ites Paar, 0 Frau, 1 Mann\n",
    "        \n",
    "    print('\\nrichtig sein. Oder {} andere.'.format(len(combinations_list)-1))"
   ]
  },
  {
   "cell_type": "code",
   "execution_count": 7,
   "metadata": {},
   "outputs": [],
   "source": [
    "def print_choice(comb):\n",
    "    for i in range(n): # Loop über alle 10 Paare\n",
    "        print(names_f[comb[i][0]] + ' und ' + names_m[comb[i][1]]) # ites Paar, 0 Frau, 1 Mann"
   ]
  },
  {
   "cell_type": "markdown",
   "metadata": {},
   "source": [
    "### Matchbox"
   ]
  },
  {
   "cell_type": "code",
   "execution_count": 8,
   "metadata": {},
   "outputs": [],
   "source": [
    "def create_pair(name_f, name_m):\n",
    "    return (name_to_number(name_f, names_f), name_to_number(name_m, names_m))\n",
    "    # Bsp. (1,4)"
   ]
  },
  {
   "cell_type": "code",
   "execution_count": 9,
   "metadata": {},
   "outputs": [],
   "source": [
    "def matchbox(name_f, name_m, combinations_list, match = False): \n",
    "    # Jedes \"no match\" Ergebnis in der Match Box schließt die Kombinationen aus, die das Paar enthalten.\n",
    "    # Das sind beim ersten Mal 9! = 362880 Kombinationen.\n",
    "    # Jedes \"match\" Ergebnis in der Match Box schließt alle Kombinationen aus, die das Paar nicht enthalten.\n",
    "    # Das wären beim ersten Mal 10!-9! = 3265920 Kombinationen.\n",
    "    \n",
    "    pair = create_pair(name_f, name_m)\n",
    "    \n",
    "    indices = []\n",
    "    for i, comb in enumerate(combinations_list):\n",
    "        if pair in comb:\n",
    "            indices += [i] # indices of all combinations containing pair\n",
    "            \n",
    "    mask = [not match]*len(combinations_list) # all False for match = True, all True for match = False\n",
    "    for x in indices:\n",
    "        mask[x] = match # True for match = True, False for match = False\n",
    "    \n",
    "    new_possible_combinations_array = np.array(combinations_list)[mask] \n",
    "    # a = np.array([1,2,3,5,7])\n",
    "    # mask = [True, True, False, True, False]\n",
    "    # a[mask] = [1,2,5]\n",
    "    \n",
    "    new_possible_combinations = [[tuple(x) for x in comb] for comb in new_possible_combinations_array]\n",
    "    # array enthält keine tupel mehr und erschwert wahrheitsabfragen wie pair in comb True/False? immens\n",
    "    # fülle daher Werte wieder in liste von listen von tupeln\n",
    "    \n",
    "    return new_possible_combinations"
   ]
  },
  {
   "cell_type": "markdown",
   "metadata": {},
   "source": [
    "### Matching Night"
   ]
  },
  {
   "cell_type": "code",
   "execution_count": 10,
   "metadata": {},
   "outputs": [],
   "source": [
    "def create_guess(string, personsplit=' und ', paarsplit = ','):\n",
    "        \n",
    "    namen = [item.split(personsplit) for item in string.split(paarsplit)]\n",
    "    # [['name_w1','name_m1'],...,[name_w10,name_m10]]\n",
    "    \n",
    "    nummern = [(name_to_number(namen[i][0], names_f),name_to_number(namen[i][1], names_m)) \n",
    "               for i in range(len(namen))]\n",
    "    # Bsp. [(2,4),...,(3,10)]\n",
    "    \n",
    "    nummern_sorted = sorted(nummern)\n",
    "    # Bsp. [(1,8),...(10,10)]\n",
    "    \n",
    "    return nummern_sorted"
   ]
  },
  {
   "cell_type": "code",
   "execution_count": 11,
   "metadata": {},
   "outputs": [],
   "source": [
    "def find_missing(liste):\n",
    "    for i in range(n):\n",
    "        if liste[i][0] != i+1:\n",
    "            counter = i\n",
    "            break\n",
    "        else:\n",
    "            counter = n-1\n",
    "    return counter\n",
    "\n",
    "def gleich(comb1, comb2): # Wie viele Paare in zwei Kombinationen sind gleich\n",
    "    missing_1 = find_missing(comb1)\n",
    "    missing_2 = find_missing(comb2)\n",
    "    comb1_copy = comb1[:]\n",
    "    comb2_copy = comb2[:]\n",
    "    del comb1_copy[missing_2]\n",
    "    del comb2_copy[missing_1]\n",
    "    return sum(a==b for a,b in zip(comb1_copy, comb2_copy)) # zip(a,b) = (a1,b1) ; (a2,b2) ; (a3,b3)"
   ]
  },
  {
   "cell_type": "code",
   "execution_count": 12,
   "metadata": {},
   "outputs": [],
   "source": [
    "def matching_night(guess, anzahl, combinations_list): \n",
    "    \n",
    "    # In der Matching Night wird ein bestimmter Guess überprüft. Es sind nur genau so viele Paare richtig,\n",
    "    # wie Lichter angehen. Deshalb kommen nur noch Kombinationen in Betracht, die genau so viele Paare\n",
    "    # mit dem Guess gleich haben, wie Lichter angingen.\n",
    "    \n",
    "    indices = []\n",
    "    for i, comb in enumerate(combinations_list):\n",
    "        if gleich(comb, guess) == anzahl: \n",
    "            indices += [i]\n",
    "\n",
    "    mask = [False]*len(combinations_list)\n",
    "    for x in indices:\n",
    "        mask[x] = True\n",
    "\n",
    "    combinations_left_array = np.array(combinations_list)[mask] \n",
    "    combinations_left_list = [[tuple(x) for x in comb] for comb in combinations_left_array]\n",
    "\n",
    "    return combinations_left_list"
   ]
  },
  {
   "cell_type": "markdown",
   "metadata": {},
   "source": [
    "### New Candidate"
   ]
  },
  {
   "cell_type": "code",
   "execution_count": 13,
   "metadata": {},
   "outputs": [],
   "source": [
    "def new_candidate(possible_combinations):\n",
    "    new_possible_combinations = []\n",
    "    for comb in possible_combinations:\n",
    "        for i in range(n):\n",
    "            new_comb = comb[:] # echte Kopie der Kombination, damit immer nur bei einem Paar die neue Kandidatin\n",
    "                               # eine alte ersetzt\n",
    "            new_comb[i] = (n+1,new_comb[i][1])\n",
    "            new_possible_combinations += [sorted(new_comb)]\n",
    "    return possible_combinations + new_possible_combinations"
   ]
  },
  {
   "cell_type": "markdown",
   "metadata": {},
   "source": [
    "# Alle möglichen Kombinationen"
   ]
  },
  {
   "cell_type": "code",
   "execution_count": 14,
   "metadata": {},
   "outputs": [],
   "source": [
    "n = 10"
   ]
  },
  {
   "cell_type": "code",
   "execution_count": 15,
   "metadata": {},
   "outputs": [
    {
     "name": "stdout",
     "output_type": "stream",
     "text": [
      "Zu Beginn gibt es 10 Fakultät = 3628800 mögliche Kombinationen der Paare.\n"
     ]
    }
   ],
   "source": [
    "print('Zu Beginn gibt es {} Fakultät = {} mögliche Kombinationen der Paare.'.format(n, factorial(n)))"
   ]
  },
  {
   "cell_type": "markdown",
   "metadata": {},
   "source": [
    "### Liste aller möglichen Kombinationen"
   ]
  },
  {
   "cell_type": "code",
   "execution_count": 24,
   "metadata": {},
   "outputs": [
    {
     "name": "stdout",
     "output_type": "stream",
     "text": [
      "Elapsed time: 10.177894 seconds.\n",
      "\n"
     ]
    }
   ],
   "source": [
    "tic()\n",
    "list_of_permutations = list(permutations(range(n)))\n",
    "#[(0,1,2,3,4,5,6,7,8,9),(0,1,2,3,4,5,6,7,9,8),...]\n",
    "\n",
    "all_pairs = [list(product((i,), range(1,n+1))) for i in range(1,n+1)]\n",
    "#[[(1,1),(1,2),...(1,10)],[(2,1),...(2,10)],...,[(10,1),...,(10,10)]]\n",
    "\n",
    "possible_combinations = [[all_pairs[j][perm[j]] for j in range(n)] for perm in list_of_permutations] \n",
    "# e.g. 1st perm = (0,1,2,3,4,5,6,7,8,9) findet (all_pairs[j=0] = Frau1) mit Mann1 (perm[j=0] = 0), also (1,1)\n",
    "# und dann (all_pairs[j=1] = Frau2) mit Mann2 (perm[j=1]=1, also (2,2)). \n",
    "# => 1st perm: [(1,1),(2,2),...,(9,9),(10,10)], 2nd perm: [(1,1),(2,2),...,(9,10),(10,9)]\n",
    "toc()"
   ]
  },
  {
   "cell_type": "code",
   "execution_count": 25,
   "metadata": {},
   "outputs": [
    {
     "data": {
      "text/plain": [
       "3628800"
      ]
     },
     "execution_count": 25,
     "metadata": {},
     "output_type": "execute_result"
    }
   ],
   "source": [
    "len(possible_combinations)"
   ]
  },
  {
   "cell_type": "markdown",
   "metadata": {},
   "source": [
    "# Events"
   ]
  },
  {
   "cell_type": "code",
   "execution_count": 26,
   "metadata": {},
   "outputs": [
    {
     "name": "stdout",
     "output_type": "stream",
     "text": [
      "Berechne Nacht 1:\n",
      "1/2 berechnet: Matchbox Kombinationen.\n",
      "Elapsed time: 74.356834 seconds.\n",
      "\n",
      "2/2 berechnet: Matching Night Kombinationen.\n",
      "Elapsed time: 79.266987 seconds.\n",
      "\n",
      "\n",
      "Berechne Nacht 2:\n",
      "1/2 berechnet: Matchbox Kombinationen.\n",
      "Elapsed time: 3.814387 seconds.\n",
      "\n",
      "2/2 berechnet: Matching Night Kombinationen.\n",
      "Elapsed time: 3.317816 seconds.\n",
      "\n",
      "\n",
      "Berechne Nacht 3:\n",
      "1/2 berechnet: Matchbox Kombinationen.\n",
      "Elapsed time: 0.792204 seconds.\n",
      "\n",
      "2/2 berechnet: Matching Night Kombinationen.\n",
      "Elapsed time: 0.668233 seconds.\n",
      "\n",
      "\n",
      "Berechne Nacht 4:\n",
      "1/2 berechnet: Matchbox Kombinationen.\n",
      "Elapsed time: 0.000000 seconds.\n",
      "\n",
      "2/2 berechnet: Matching Night Kombinationen.\n",
      "Elapsed time: 0.187717 seconds.\n",
      "\n",
      "\n",
      "Berechne Nacht 5:\n",
      "1/2 berechnet: Matchbox Kombinationen.\n",
      "Elapsed time: 0.296131 seconds.\n",
      "\n",
      "2/2 berechnet: Matching Night Kombinationen.\n",
      "Elapsed time: 0.172173 seconds.\n",
      "\n",
      "\n",
      "Berechne Nacht 6:\n",
      "1/2 berechnet: Matchbox Kombinationen.\n",
      "Elapsed time: 0.039973 seconds.\n",
      "\n",
      "2/2 berechnet: Matching Night Kombinationen.\n",
      "Elapsed time: 0.028349 seconds.\n",
      "\n",
      "\n",
      "Berechne Nacht 7:\n",
      "1/2 berechnet: Matchbox Kombinationen.\n",
      "Elapsed time: 0.000000 seconds.\n",
      "\n",
      "2/2 berechnet: Matching Night Kombinationen.\n",
      "Elapsed time: 0.000000 seconds.\n",
      "\n",
      "\n"
     ]
    }
   ],
   "source": [
    "events = ['initial']\n",
    "lengths = [len(possible_combinations)]\n",
    "\n",
    "for i in range(number_of_nights):\n",
    "    \n",
    "    print('Berechne Nacht {}:'.format(i+1))\n",
    "    \n",
    "    events += ['match \\nbox {}'.format(i+1), 'matching\\nnight {}'.format(i+1)]\n",
    "    \n",
    "    tic()\n",
    "    if sold[i] == False:\n",
    "        possible_combinations = matchbox(matchbox_names[i][0], matchbox_names[i][1], possible_combinations, match = match[i])\n",
    "    lengths += [len(possible_combinations)]\n",
    "    print('1/2 berechnet: Matchbox Kombinationen.')\n",
    "    toc()\n",
    "    \n",
    "    tic()\n",
    "    possible_combinations = matching_night(create_guess(matching_night_strings[i]), lichter[i], possible_combinations)\n",
    "    lengths += [len(possible_combinations)]\n",
    "    print('2/2 berechnet: Matching Night Kombinationen.')\n",
    "    toc()\n",
    "    \n",
    "    if i == 3: #4te Nacht\n",
    "        events += ['new\\ncandidate']\n",
    "        possible_combinations = new_candidate(possible_combinations)\n",
    "        lengths += [len(possible_combinations)]\n",
    "    \n",
    "    print()"
   ]
  },
  {
   "cell_type": "code",
   "execution_count": 27,
   "metadata": {},
   "outputs": [
    {
     "data": {
      "image/png": "[encoded data removed]",
      "text/plain": [
       "<Figure size 1152x288 with 1 Axes>"
      ]
     },
     "metadata": {
      "needs_background": "light"
     },
     "output_type": "display_data"
    }
   ],
   "source": [
    "%matplotlib inline\n",
    "fig = plt.figure(figsize = (number_of_nights*2+2,4))\n",
    "pos = range(number_of_nights*2+2)\n",
    "plt.errorbar(pos, lengths, marker = 'o')\n",
    "plt.xticks(pos, events)\n",
    "plt.title('Anzahl möglicher Kombinationen der Paare')\n",
    "plt.ylabel('Anzahl')\n",
    "plt.yscale('log')\n",
    "plt.grid()\n",
    "plt.show()"
   ]
  },
  {
   "cell_type": "code",
   "execution_count": 29,
   "metadata": {},
   "outputs": [
    {
     "name": "stdout",
     "output_type": "stream",
     "text": [
      "Es könnte die Kombination\n",
      "\n",
      "Dana und Antonino\n",
      "Estelle und Jordi\n",
      "Isabelle und Andre\n",
      "Jessica und Leon\n",
      "Joelina und Mike\n",
      "Kerstin und Tim\n",
      "Marie und Dustin\n",
      "Monami und Max\n",
      "Raphaela und William\n",
      "Zaira und Marius\n",
      "\n",
      "richtig sein. Oder 0 andere.\n"
     ]
    }
   ],
   "source": [
    "random_choice(possible_combinations)"
   ]
  },
  {
   "cell_type": "code",
   "execution_count": 30,
   "metadata": {},
   "outputs": [
    {
     "data": {
      "text/plain": [
       "[3628800,\n",
       " 3265920,\n",
       " 165326,\n",
       " 153936,\n",
       " 42783,\n",
       " 31666,\n",
       " 9226,\n",
       " 9226,\n",
       " 1757,\n",
       " 19327,\n",
       " 8277,\n",
       " 1878,\n",
       " 1793,\n",
       " 5,\n",
       " 5,\n",
       " 1]"
      ]
     },
     "execution_count": 30,
     "metadata": {},
     "output_type": "execute_result"
    }
   ],
   "source": [
    "lengths"
   ]
  },
  {
   "cell_type": "code",
   "execution_count": null,
   "metadata": {},
   "outputs": [],
   "source": []
  }
 ],
 "metadata": {
  "kernelspec": {
   "display_name": "Python 3 (ipykernel)",
   "language": "python",
   "name": "python3"
  },
  "language_info": {
   "codemirror_mode": {
    "name": "ipython",
    "version": 3
   },
   "file_extension": ".py",
   "mimetype": "text/x-python",
   "name": "python",
   "nbconvert_exporter": "python",
   "pygments_lexer": "ipython3",
   "version": "3.9.7"
  }
 },
 "nbformat": 4,
 "nbformat_minor": 4
}
